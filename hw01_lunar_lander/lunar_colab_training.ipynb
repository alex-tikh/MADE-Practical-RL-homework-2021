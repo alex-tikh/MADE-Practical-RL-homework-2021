{
  "nbformat": 4,
  "nbformat_minor": 0,
  "metadata": {
    "colab": {
      "name": "lunar_colab_training",
      "provenance": [],
      "mount_file_id": "1323JLX_sGIc0P4SMAEjU-1e6Wlmb_9U7",
      "authorship_tag": "ABX9TyPCCYUbfBQYFLWvVPjaVZz4",
      "include_colab_link": true
    },
    "kernelspec": {
      "name": "python3",
      "display_name": "Python 3"
    },
    "language_info": {
      "name": "python"
    },
    "accelerator": "GPU"
  },
  "cells": [
    {
      "cell_type": "markdown",
      "metadata": {
        "id": "view-in-github",
        "colab_type": "text"
      },
      "source": [
        "<a href=\"https://colab.research.google.com/github/alex-tikh/MADE-Practical-RL-homework-2021/blob/main/hw01_lunar_lander/lunar_colab_training.ipynb\" target=\"_parent\"><img src=\"https://colab.research.google.com/assets/colab-badge.svg\" alt=\"Open In Colab\"/></a>"
      ]
    },
    {
      "cell_type": "code",
      "metadata": {
        "colab": {
          "base_uri": "https://localhost:8080/"
        },
        "id": "8qN-qOA-BLiZ",
        "outputId": "01382d79-083f-4fc9-f0c8-f1f705f197ab"
      },
      "source": [
        "!nvidia-smi"
      ],
      "execution_count": 1,
      "outputs": [
        {
          "output_type": "stream",
          "name": "stdout",
          "text": [
            "Tue Oct 26 20:02:09 2021       \n",
            "+-----------------------------------------------------------------------------+\n",
            "| NVIDIA-SMI 470.74       Driver Version: 460.32.03    CUDA Version: 11.2     |\n",
            "|-------------------------------+----------------------+----------------------+\n",
            "| GPU  Name        Persistence-M| Bus-Id        Disp.A | Volatile Uncorr. ECC |\n",
            "| Fan  Temp  Perf  Pwr:Usage/Cap|         Memory-Usage | GPU-Util  Compute M. |\n",
            "|                               |                      |               MIG M. |\n",
            "|===============================+======================+======================|\n",
            "|   0  Tesla P100-PCIE...  Off  | 00000000:00:04.0 Off |                    0 |\n",
            "| N/A   35C    P0    26W / 250W |      0MiB / 16280MiB |      0%      Default |\n",
            "|                               |                      |                  N/A |\n",
            "+-------------------------------+----------------------+----------------------+\n",
            "                                                                               \n",
            "+-----------------------------------------------------------------------------+\n",
            "| Processes:                                                                  |\n",
            "|  GPU   GI   CI        PID   Type   Process name                  GPU Memory |\n",
            "|        ID   ID                                                   Usage      |\n",
            "|=============================================================================|\n",
            "|  No running processes found                                                 |\n",
            "+-----------------------------------------------------------------------------+\n"
          ]
        }
      ]
    },
    {
      "cell_type": "code",
      "metadata": {
        "colab": {
          "base_uri": "https://localhost:8080/"
        },
        "id": "kTADYgHqBQ53",
        "outputId": "318223e8-8696-46d3-9226-6b63d268b76a"
      },
      "source": [
        "!git clone https://github.com/alex-tikh/MADE-Practical-RL-homework-2021"
      ],
      "execution_count": 2,
      "outputs": [
        {
          "output_type": "stream",
          "name": "stdout",
          "text": [
            "Cloning into 'MADE-Practical-RL-homework-2021'...\n",
            "remote: Enumerating objects: 59, done.\u001b[K\n",
            "remote: Counting objects: 100% (59/59), done.\u001b[K\n",
            "remote: Compressing objects: 100% (34/34), done.\u001b[K\n",
            "remote: Total 59 (delta 24), reused 55 (delta 23), pack-reused 0\u001b[K\n",
            "Unpacking objects: 100% (59/59), done.\n"
          ]
        }
      ]
    },
    {
      "cell_type": "code",
      "metadata": {
        "colab": {
          "base_uri": "https://localhost:8080/"
        },
        "id": "BXwsR7dDBq5f",
        "outputId": "550b720f-67a8-47f6-ffca-489663c86919"
      },
      "source": [
        "%cd MADE-Practical-RL-homework-2021/hw01_lunar_lander/"
      ],
      "execution_count": 2,
      "outputs": [
        {
          "output_type": "stream",
          "name": "stdout",
          "text": [
            "/content/MADE-Practical-RL-homework-2021/hw01_lunar_lander\n"
          ]
        }
      ]
    },
    {
      "cell_type": "code",
      "metadata": {
        "colab": {
          "base_uri": "https://localhost:8080/"
        },
        "id": "sU9sgS6-BaY4",
        "outputId": "56321b50-7a27-4461-b09f-8526e9c7f8a5"
      },
      "source": [
        "!git pull"
      ],
      "execution_count": 4,
      "outputs": [
        {
          "output_type": "stream",
          "name": "stdout",
          "text": [
            "Already up to date.\n"
          ]
        }
      ]
    },
    {
      "cell_type": "code",
      "metadata": {
        "id": "fQOuOpYdBwv8"
      },
      "source": [
        "import torch\n",
        "import train"
      ],
      "execution_count": 3,
      "outputs": []
    },
    {
      "cell_type": "code",
      "metadata": {
        "id": "t288pL40B10w"
      },
      "source": [
        "device = torch.device(\"cuda\")"
      ],
      "execution_count": 4,
      "outputs": []
    },
    {
      "cell_type": "code",
      "metadata": {
        "colab": {
          "base_uri": "https://localhost:8080/"
        },
        "id": "2ZAVeOnZdDBG",
        "outputId": "f956f368-ad14-4009-f6fb-8b69ba3dfb56"
      },
      "source": [
        "!pip install Box2D"
      ],
      "execution_count": 5,
      "outputs": [
        {
          "output_type": "stream",
          "name": "stdout",
          "text": [
            "Collecting Box2D\n",
            "  Downloading Box2D-2.3.10-cp37-cp37m-manylinux1_x86_64.whl (1.3 MB)\n",
            "\u001b[K     |████████████████████████████████| 1.3 MB 4.3 MB/s \n",
            "\u001b[?25hInstalling collected packages: Box2D\n",
            "Successfully installed Box2D-2.3.10\n"
          ]
        }
      ]
    },
    {
      "cell_type": "markdown",
      "metadata": {
        "id": "oS-r3xTsxIiI"
      },
      "source": [
        "    # Agent parameters\n",
        "    device = \"cuda\" if torch.cuda.is_available() else \"cpu\"\n",
        "    agent_parameters = {\n",
        "        'network_config': {\n",
        "            'state_dim': 8,\n",
        "            'num_hidden_units': 256,\n",
        "            'action_dim': 4,\n",
        "            'seed': 0\n",
        "        },\n",
        "        'optimizer_config': {\n",
        "            'step_size': 1e-3,\n",
        "            'betas': (0.9, 0.999)\n",
        "        },\n",
        "        'name': 'q-learning',\n",
        "        'device': device,\n",
        "        'replay_buffer_size': 50000,\n",
        "        'minibatch_size': 64,\n",
        "        'num_replay_updates_per_step': 4,\n",
        "        'gamma': 0.99,\n",
        "        'tau': 0.001,\n",
        "        'checkpoint_dir': 'model_weights',\n",
        "        'seed': 0\n",
        "    }"
      ]
    },
    {
      "cell_type": "code",
      "metadata": {
        "colab": {
          "base_uri": "https://localhost:8080/"
        },
        "id": "PvvRNfuByCoM",
        "outputId": "2d608adc-70b3-463e-c2af-31268b4cb3b1"
      },
      "source": [
        "train.INITIAL_STEPS"
      ],
      "execution_count": 6,
      "outputs": [
        {
          "output_type": "execute_result",
          "data": {
            "text/plain": [
              "1024"
            ]
          },
          "metadata": {},
          "execution_count": 6
        }
      ]
    },
    {
      "cell_type": "code",
      "metadata": {
        "id": "IRlJDLxUqTC3"
      },
      "source": [
        "# DEFAULT\n",
        "train.GAMMA = 0.99\n",
        "train.INITIAL_STEPS = 1024\n",
        "train.TRANSITIONS = 500000\n",
        "train.STEPS_PER_UPDATE = 4\n",
        "train.STEPS_PER_TARGET_UPDATE = train.STEPS_PER_UPDATE * 1000\n",
        "train.BATCH_SIZE = 128\n",
        "train.LEARNING_RATE = 5e-4\n",
        "train.HIDDEN_DIM = 128"
      ],
      "execution_count": 7,
      "outputs": []
    },
    {
      "cell_type": "code",
      "metadata": {
        "id": "ldnbCcMU1Xgk"
      },
      "source": [
        "train.INITIAL_STEPS = 8192\n",
        "train.BATCH_SIZE = 512\n",
        "train.LEARNING_RATE = 1e-4\n",
        "train.HIDDEN_DIM = 512"
      ],
      "execution_count": 8,
      "outputs": []
    },
    {
      "cell_type": "code",
      "metadata": {
        "id": "WbSG6FO63FXd"
      },
      "source": [
        "train.TRANSITIONS = 1500000"
      ],
      "execution_count": 11,
      "outputs": []
    },
    {
      "cell_type": "code",
      "metadata": {
        "colab": {
          "base_uri": "https://localhost:8080/"
        },
        "id": "Vy7WOZqbcIvq",
        "outputId": "1ecb635e-29bb-4014-df89-9a1fa4db4fbc"
      },
      "source": [
        "train.main(device)"
      ],
      "execution_count": 12,
      "outputs": [
        {
          "output_type": "stream",
          "name": "stdout",
          "text": [
            "Step: 15000, Reward mean: -159.574748286144, Reward std: 78.69584631400328\n",
            "Step: 30000, Reward mean: -120.11727056856338, Reward std: 116.17653111784435\n",
            "Step: 45000, Reward mean: -96.15458203548287, Reward std: 53.15485796501012\n",
            "Step: 60000, Reward mean: -71.85318005429369, Reward std: 65.50015126625235\n",
            "Step: 75000, Reward mean: -81.81569159692468, Reward std: 37.349960138254886\n",
            "Step: 90000, Reward mean: -51.0684728356561, Reward std: 17.50677482487385\n",
            "Step: 105000, Reward mean: -57.840483724804926, Reward std: 34.379896933356\n",
            "Step: 120000, Reward mean: -25.20964372498448, Reward std: 36.854343749485146\n",
            "Step: 135000, Reward mean: 72.37528433028214, Reward std: 143.7261114020692\n",
            "Step: 150000, Reward mean: 40.86689927635928, Reward std: 197.38162482045453\n",
            "Step: 165000, Reward mean: 169.50492130488843, Reward std: 114.97987029184291\n",
            "Step: 180000, Reward mean: 172.26391798214576, Reward std: 75.67204969159965\n",
            "Step: 195000, Reward mean: 212.51897201955845, Reward std: 54.010061444687075\n",
            "Step: 210000, Reward mean: 191.77979616330478, Reward std: 68.00348408422118\n",
            "Step: 225000, Reward mean: -133.83407463241863, Reward std: 211.53561762240807\n",
            "Step: 240000, Reward mean: 238.750219133416, Reward std: 10.750138018237678\n",
            "Step: 255000, Reward mean: 255.64123862803564, Reward std: 29.343891355706848\n",
            "Step: 270000, Reward mean: 211.29939746585688, Reward std: 26.390249562955677\n",
            "Step: 285000, Reward mean: 258.33324008908323, Reward std: 11.756908737606723\n",
            "Step: 300000, Reward mean: 266.1641234005016, Reward std: 8.944553005977882\n",
            "Step: 315000, Reward mean: 271.72235660679576, Reward std: 14.8281490198075\n",
            "Step: 330000, Reward mean: 262.63727693615306, Reward std: 17.029450098130564\n",
            "Step: 345000, Reward mean: 151.06505944064557, Reward std: 131.4506892321082\n",
            "Step: 360000, Reward mean: 236.3282246090916, Reward std: 14.182728506834433\n",
            "Step: 375000, Reward mean: 154.45959135907214, Reward std: 172.95917982407198\n",
            "Step: 390000, Reward mean: 120.14033038613354, Reward std: 106.46349384519972\n",
            "Step: 405000, Reward mean: 242.19723990976317, Reward std: 19.810817217450186\n",
            "Step: 420000, Reward mean: 217.33399073980732, Reward std: 112.5878057848687\n",
            "Step: 435000, Reward mean: 141.73482485662788, Reward std: 118.92399360708824\n",
            "Step: 450000, Reward mean: 261.5961085821859, Reward std: 27.726865746794562\n",
            "Step: 465000, Reward mean: 226.38156662882153, Reward std: 86.73733224687685\n",
            "Step: 480000, Reward mean: 120.52864900576682, Reward std: 115.32141269178824\n",
            "Step: 495000, Reward mean: 65.73668362045117, Reward std: 88.88697824614734\n",
            "Step: 510000, Reward mean: 195.95981534204628, Reward std: 111.91462943039862\n",
            "Step: 525000, Reward mean: 234.89606392364803, Reward std: 26.27333406801531\n",
            "Step: 540000, Reward mean: 162.96921228195953, Reward std: 200.26064366199859\n",
            "Step: 555000, Reward mean: 165.71574199334265, Reward std: 119.09916397049535\n",
            "Step: 570000, Reward mean: 273.0649555925712, Reward std: 9.394513805698626\n",
            "Step: 585000, Reward mean: 189.58004924940934, Reward std: 120.13551575043739\n",
            "Step: 600000, Reward mean: 213.89494434386734, Reward std: 110.92700702883742\n",
            "Step: 615000, Reward mean: 276.33283363497554, Reward std: 12.531633153048519\n",
            "Step: 630000, Reward mean: 187.7313435863126, Reward std: 90.5470047265755\n",
            "Step: 645000, Reward mean: 251.19195246893574, Reward std: 25.323395141531716\n",
            "Step: 660000, Reward mean: 237.77251082684467, Reward std: 53.49211922377156\n",
            "Step: 675000, Reward mean: 250.905513873124, Reward std: 46.466218602458845\n",
            "Step: 690000, Reward mean: 190.49217429786586, Reward std: 95.82450457953006\n",
            "Step: 705000, Reward mean: 124.82050178154266, Reward std: 80.01267389900116\n",
            "Step: 720000, Reward mean: 233.97618922755277, Reward std: 56.10208006100415\n",
            "Step: 735000, Reward mean: 211.93245738577417, Reward std: 57.43148096466319\n",
            "Step: 750000, Reward mean: 161.4076812699622, Reward std: 129.42774966920516\n",
            "Step: 765000, Reward mean: 170.7560405260502, Reward std: 116.90168133328825\n",
            "Step: 780000, Reward mean: 145.73937381003486, Reward std: 191.89563180194483\n",
            "Step: 795000, Reward mean: 128.5158423997022, Reward std: 158.4007878761951\n",
            "Step: 810000, Reward mean: 279.98388773862536, Reward std: 19.20958589724862\n",
            "Step: 825000, Reward mean: 211.9197783503435, Reward std: 55.25458896708885\n",
            "Step: 840000, Reward mean: 188.62148006812373, Reward std: 92.59977254000876\n",
            "Step: 855000, Reward mean: 116.64137950981589, Reward std: 181.86824875376703\n",
            "Step: 870000, Reward mean: 174.49708126620132, Reward std: 181.50726968843665\n",
            "Step: 885000, Reward mean: 244.99065220334188, Reward std: 54.79895147934775\n",
            "Step: 900000, Reward mean: 171.408177458657, Reward std: 161.4149697175258\n",
            "Step: 915000, Reward mean: 278.2583363990406, Reward std: 20.2451147521216\n",
            "Step: 930000, Reward mean: 182.20968103744184, Reward std: 184.55458821710593\n",
            "Step: 945000, Reward mean: 169.97241581890995, Reward std: 168.59642367066692\n",
            "Step: 960000, Reward mean: 271.1529198123029, Reward std: 15.253826935397745\n",
            "Step: 975000, Reward mean: 269.3910238164264, Reward std: 25.139098741608617\n",
            "Step: 990000, Reward mean: 244.64969010667977, Reward std: 53.129259261939104\n",
            "Step: 1005000, Reward mean: 211.495349201693, Reward std: 108.28141488436391\n",
            "Step: 1020000, Reward mean: 242.44235170568317, Reward std: 51.03734485481799\n",
            "Step: 1035000, Reward mean: 269.9325941230644, Reward std: 27.291575704352102\n",
            "Step: 1050000, Reward mean: 293.49544240517486, Reward std: 15.996534229196337\n",
            "Step: 1065000, Reward mean: 211.32212886371536, Reward std: 120.20345534969869\n",
            "Step: 1080000, Reward mean: 230.1955545596446, Reward std: 49.405656979354994\n",
            "Step: 1095000, Reward mean: 222.17526397013074, Reward std: 45.33776878080464\n",
            "Step: 1110000, Reward mean: 265.8976888096232, Reward std: 24.052376725398762\n",
            "Step: 1125000, Reward mean: 251.31684220061828, Reward std: 57.457884533665286\n",
            "Step: 1140000, Reward mean: 222.3395666381372, Reward std: 91.01038381058837\n",
            "Step: 1155000, Reward mean: 244.4018742359421, Reward std: 53.32566760128002\n",
            "Step: 1170000, Reward mean: 272.86538336859184, Reward std: 28.030253722579516\n",
            "Step: 1185000, Reward mean: 250.80808750197448, Reward std: 16.80501345050017\n",
            "Step: 1200000, Reward mean: 281.0506707708159, Reward std: 17.430999164342584\n",
            "Step: 1215000, Reward mean: 240.2845464433773, Reward std: 62.92037019061706\n",
            "Step: 1230000, Reward mean: 226.5910196565347, Reward std: 45.9382288540815\n",
            "Step: 1245000, Reward mean: 275.2711846000952, Reward std: 19.904964632531414\n",
            "Step: 1260000, Reward mean: 187.51164384356113, Reward std: 177.408521676261\n",
            "Step: 1275000, Reward mean: 227.59014041558703, Reward std: 52.179833035361646\n",
            "Step: 1290000, Reward mean: 240.8262521716859, Reward std: 56.873130915732446\n",
            "Step: 1305000, Reward mean: 138.25230603768597, Reward std: 160.59304983037228\n",
            "Step: 1320000, Reward mean: 225.97686420364016, Reward std: 41.472746277727936\n",
            "Step: 1335000, Reward mean: 256.010741508206, Reward std: 16.00112943394348\n",
            "Step: 1350000, Reward mean: 125.24657164017162, Reward std: 264.46598680316674\n",
            "Step: 1365000, Reward mean: 154.5684680617274, Reward std: 127.24920457873739\n",
            "Step: 1380000, Reward mean: 156.57958605604415, Reward std: 169.59773834297516\n",
            "Step: 1395000, Reward mean: 274.5512937951354, Reward std: 13.888716864469197\n",
            "Step: 1410000, Reward mean: 256.48620186660656, Reward std: 5.531804321934533\n",
            "Step: 1425000, Reward mean: 175.52962176062448, Reward std: 103.00427389132142\n",
            "Step: 1440000, Reward mean: 235.54126292626188, Reward std: 40.28087291079575\n",
            "Step: 1455000, Reward mean: 205.7343193986891, Reward std: 67.92929243187425\n",
            "Step: 1470000, Reward mean: 246.38322162864606, Reward std: 56.86219974856292\n",
            "Step: 1485000, Reward mean: 262.82893951370113, Reward std: 19.908285385462474\n",
            "Step: 1500000, Reward mean: 168.90790211448993, Reward std: 182.41439655449415\n"
          ]
        }
      ]
    },
    {
      "cell_type": "code",
      "metadata": {
        "colab": {
          "base_uri": "https://localhost:8080/"
        },
        "id": "B2W9rQZ3C2B8",
        "outputId": "88da9b0c-c246-44b5-ef1a-6dc81841d4e6"
      },
      "source": [
        "!zip answer_7.zip train.py agent.py agent.pkl"
      ],
      "execution_count": 13,
      "outputs": [
        {
          "output_type": "stream",
          "name": "stdout",
          "text": [
            "  adding: train.py (deflated 71%)\n",
            "  adding: agent.py (deflated 48%)\n",
            "  adding: agent.pkl (deflated 6%)\n"
          ]
        }
      ]
    },
    {
      "cell_type": "code",
      "metadata": {
        "id": "Ck9vLCn6NiGF"
      },
      "source": [
        "!cp answer_7.zip /content/drive/MyDrive"
      ],
      "execution_count": 14,
      "outputs": []
    },
    {
      "cell_type": "code",
      "metadata": {
        "id": "EOpAyHqxN8iH"
      },
      "source": [
        "%mv best_agent.pkl agent.pkl"
      ],
      "execution_count": 15,
      "outputs": []
    },
    {
      "cell_type": "code",
      "metadata": {
        "colab": {
          "base_uri": "https://localhost:8080/"
        },
        "id": "92PFCs_pN9cP",
        "outputId": "478572db-96ee-4356-bc09-5ddd6a41862b"
      },
      "source": [
        "!zip answer_8.zip train.py agent.py agent.pkl"
      ],
      "execution_count": 16,
      "outputs": [
        {
          "output_type": "stream",
          "name": "stdout",
          "text": [
            "  adding: train.py (deflated 71%)\n",
            "  adding: agent.py (deflated 48%)\n",
            "  adding: agent.pkl (deflated 6%)\n"
          ]
        }
      ]
    },
    {
      "cell_type": "code",
      "metadata": {
        "id": "rsl6Hj3sOBD8"
      },
      "source": [
        "!cp answer_8.zip /content/drive/MyDrive"
      ],
      "execution_count": 17,
      "outputs": []
    },
    {
      "cell_type": "code",
      "metadata": {
        "id": "f88Jqm96cZ70",
        "colab": {
          "base_uri": "https://localhost:8080/"
        },
        "outputId": "af9072ae-3462-4060-ba6f-ddaa10d761fb"
      },
      "source": [
        "# mount it\n",
        "from google.colab import drive\n",
        "drive.mount('/content/drive')\n",
        "# copy it there\n",
        "# !cp example.txt /content/drive/MyDrive"
      ],
      "execution_count": 9,
      "outputs": [
        {
          "output_type": "stream",
          "name": "stdout",
          "text": [
            "Mounted at /content/drive\n"
          ]
        }
      ]
    },
    {
      "cell_type": "code",
      "metadata": {
        "id": "Ww4qWQ_7NbZm"
      },
      "source": [
        ""
      ],
      "execution_count": null,
      "outputs": []
    }
  ]
}
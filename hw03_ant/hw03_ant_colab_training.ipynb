{
  "nbformat": 4,
  "nbformat_minor": 0,
  "metadata": {
    "colab": {
      "name": "hw03_ant_colab_training.ipynb",
      "provenance": [],
      "authorship_tag": "ABX9TyM15t4XUn6IYGb+HNZ/nxJb",
      "include_colab_link": true
    },
    "kernelspec": {
      "name": "python3",
      "display_name": "Python 3"
    },
    "language_info": {
      "name": "python"
    },
    "accelerator": "GPU"
  },
  "cells": [
    {
      "cell_type": "markdown",
      "metadata": {
        "id": "view-in-github",
        "colab_type": "text"
      },
      "source": [
        "<a href=\"https://colab.research.google.com/github/alex-tikh/MADE-Practical-RL-homework-2021/blob/main/hw03_ant/hw03_ant_colab_training.ipynb\" target=\"_parent\"><img src=\"https://colab.research.google.com/assets/colab-badge.svg\" alt=\"Open In Colab\"/></a>"
      ]
    },
    {
      "cell_type": "code",
      "metadata": {
        "colab": {
          "base_uri": "https://localhost:8080/"
        },
        "id": "C1zf2wRfMjj7",
        "outputId": "ae0748f5-347d-4f01-b978-81693d292bfd"
      },
      "source": [
        "# mount it\n",
        "from google.colab import drive\n",
        "drive.mount('/content/drive')\n",
        "# copy it there\n",
        "# !cp example.txt /content/drive/MyDrive"
      ],
      "execution_count": 1,
      "outputs": [
        {
          "output_type": "stream",
          "name": "stdout",
          "text": [
            "Mounted at /content/drive\n"
          ]
        }
      ]
    },
    {
      "cell_type": "code",
      "metadata": {
        "colab": {
          "base_uri": "https://localhost:8080/"
        },
        "id": "s0z44fE2Elft",
        "outputId": "522a03f1-6d9f-4e94-c4fe-1ddbe581b877"
      },
      "source": [
        "!nvidia-smi"
      ],
      "execution_count": 2,
      "outputs": [
        {
          "output_type": "stream",
          "name": "stdout",
          "text": [
            "Wed Nov 24 06:08:11 2021       \n",
            "+-----------------------------------------------------------------------------+\n",
            "| NVIDIA-SMI 495.44       Driver Version: 460.32.03    CUDA Version: 11.2     |\n",
            "|-------------------------------+----------------------+----------------------+\n",
            "| GPU  Name        Persistence-M| Bus-Id        Disp.A | Volatile Uncorr. ECC |\n",
            "| Fan  Temp  Perf  Pwr:Usage/Cap|         Memory-Usage | GPU-Util  Compute M. |\n",
            "|                               |                      |               MIG M. |\n",
            "|===============================+======================+======================|\n",
            "|   0  Tesla P100-PCIE...  Off  | 00000000:00:04.0 Off |                    0 |\n",
            "| N/A   39C    P0    28W / 250W |      0MiB / 16280MiB |      0%      Default |\n",
            "|                               |                      |                  N/A |\n",
            "+-------------------------------+----------------------+----------------------+\n",
            "                                                                               \n",
            "+-----------------------------------------------------------------------------+\n",
            "| Processes:                                                                  |\n",
            "|  GPU   GI   CI        PID   Type   Process name                  GPU Memory |\n",
            "|        ID   ID                                                   Usage      |\n",
            "|=============================================================================|\n",
            "|  No running processes found                                                 |\n",
            "+-----------------------------------------------------------------------------+\n"
          ]
        }
      ]
    },
    {
      "cell_type": "code",
      "metadata": {
        "colab": {
          "base_uri": "https://localhost:8080/"
        },
        "id": "7463ysyFExc8",
        "outputId": "91a46635-429e-4d07-bd15-1c9dca113ea4"
      },
      "source": [
        "!pip install -q pybullet"
      ],
      "execution_count": 3,
      "outputs": [
        {
          "output_type": "stream",
          "name": "stdout",
          "text": [
            "\u001b[K     |████████████████████████████████| 89.3 MB 84 kB/s \n",
            "\u001b[?25h"
          ]
        }
      ]
    },
    {
      "cell_type": "code",
      "metadata": {
        "colab": {
          "base_uri": "https://localhost:8080/"
        },
        "id": "HgkGVtTsExwX",
        "outputId": "8ce00a77-96f1-4767-fe7b-50d3cd467b88"
      },
      "source": [
        "!git clone https://github.com/alex-tikh/MADE-Practical-RL-homework-2021.git"
      ],
      "execution_count": 4,
      "outputs": [
        {
          "output_type": "stream",
          "name": "stdout",
          "text": [
            "Cloning into 'MADE-Practical-RL-homework-2021'...\n",
            "remote: Enumerating objects: 137, done.\u001b[K\n",
            "remote: Counting objects: 100% (137/137), done.\u001b[K\n",
            "remote: Compressing objects: 100% (93/93), done.\u001b[K\n",
            "remote: Total 137 (delta 68), reused 103 (delta 42), pack-reused 0\u001b[K\n",
            "Receiving objects: 100% (137/137), 34.79 KiB | 8.70 MiB/s, done.\n",
            "Resolving deltas: 100% (68/68), done.\n"
          ]
        }
      ]
    },
    {
      "cell_type": "code",
      "metadata": {
        "colab": {
          "base_uri": "https://localhost:8080/"
        },
        "id": "MdW_OyeWEyEh",
        "outputId": "1bdda043-0e3b-4556-bc66-4f59980d9761"
      },
      "source": [
        "%cd MADE-Practical-RL-homework-2021/hw03_ant/\n"
      ],
      "execution_count": 5,
      "outputs": [
        {
          "output_type": "stream",
          "name": "stdout",
          "text": [
            "/content/MADE-Practical-RL-homework-2021/hw03_ant\n"
          ]
        }
      ]
    },
    {
      "cell_type": "code",
      "metadata": {
        "colab": {
          "base_uri": "https://localhost:8080/"
        },
        "id": "nbkVzuD1EyqA",
        "outputId": "e7b83d9d-34ef-4a8d-8225-b59886c337e5"
      },
      "source": [
        "!git pull"
      ],
      "execution_count": 9,
      "outputs": [
        {
          "output_type": "stream",
          "name": "stdout",
          "text": [
            "remote: Enumerating objects: 7, done.\u001b[K\n",
            "remote: Counting objects:  14% (1/7)\u001b[K\rremote: Counting objects:  28% (2/7)\u001b[K\rremote: Counting objects:  42% (3/7)\u001b[K\rremote: Counting objects:  57% (4/7)\u001b[K\rremote: Counting objects:  71% (5/7)\u001b[K\rremote: Counting objects:  85% (6/7)\u001b[K\rremote: Counting objects: 100% (7/7)\u001b[K\rremote: Counting objects: 100% (7/7), done.\u001b[K\n",
            "remote: Compressing objects: 100% (1/1)\u001b[K\rremote: Compressing objects: 100% (1/1), done.\u001b[K\n",
            "remote: Total 4 (delta 3), reused 4 (delta 3), pack-reused 0\u001b[K\n",
            "Unpacking objects:  25% (1/4)   \rUnpacking objects:  50% (2/4)   \rUnpacking objects:  75% (3/4)   \rUnpacking objects: 100% (4/4)   \rUnpacking objects: 100% (4/4), done.\n",
            "From https://github.com/alex-tikh/MADE-Practical-RL-homework-2021\n",
            "   eedeb10..a34f4c0  main       -> origin/main\n",
            "Updating eedeb10..a34f4c0\n",
            "Fast-forward\n",
            " hw03_ant/train.py | 2 \u001b[32m+\u001b[m\u001b[31m-\u001b[m\n",
            " 1 file changed, 1 insertion(+), 1 deletion(-)\n"
          ]
        }
      ]
    },
    {
      "cell_type": "code",
      "metadata": {
        "colab": {
          "base_uri": "https://localhost:8080/"
        },
        "id": "2OrCHManEzLN",
        "outputId": "3a19f79e-378b-45c2-dabb-ed14fea56986"
      },
      "source": [
        "!ls"
      ],
      "execution_count": 10,
      "outputs": [
        {
          "output_type": "stream",
          "name": "stdout",
          "text": [
            "agent.py  README.md  train.py\n"
          ]
        }
      ]
    },
    {
      "cell_type": "code",
      "metadata": {
        "id": "PMJmU53LEzg3"
      },
      "source": [
        "import train"
      ],
      "execution_count": 11,
      "outputs": []
    },
    {
      "cell_type": "code",
      "metadata": {
        "colab": {
          "base_uri": "https://localhost:8080/"
        },
        "id": "DSjUhiApIT1y",
        "outputId": "b94b3198-0a80-411f-f0b6-944d00620ea3"
      },
      "source": [
        "import pybullet_envs\n",
        "from gym import make\n",
        "\n",
        "ENV_NAME = \"AntBulletEnv-v0\"\n",
        "\n",
        "env = make(ENV_NAME)"
      ],
      "execution_count": 12,
      "outputs": [
        {
          "output_type": "stream",
          "name": "stderr",
          "text": [
            "/usr/local/lib/python3.7/dist-packages/gym/logger.py:30: UserWarning: \u001b[33mWARN: Box bound precision lowered by casting to float32\u001b[0m\n",
            "  warnings.warn(colorize('%s: %s'%('WARN', msg % args), 'yellow'))\n"
          ]
        }
      ]
    },
    {
      "cell_type": "code",
      "metadata": {
        "colab": {
          "base_uri": "https://localhost:8080/"
        },
        "id": "uGfvGnS-Ihfi",
        "outputId": "40a21774-0818-44c0-f3bb-6b0741959b38"
      },
      "source": [
        "state_dim=env.observation_space.shape[0]\n",
        "action_dim=env.action_space.shape[0]\n",
        "\n",
        "state_dim, action_dim"
      ],
      "execution_count": 13,
      "outputs": [
        {
          "output_type": "execute_result",
          "data": {
            "text/plain": [
              "(28, 8)"
            ]
          },
          "metadata": {},
          "execution_count": 13
        }
      ]
    },
    {
      "cell_type": "code",
      "metadata": {
        "id": "9N9a0gQoEzz7"
      },
      "source": [
        "train.BATCH_SIZE = 512\n",
        "train.HIDDEN_DIM = 256\n",
        "train.EPSILON_NOISE = 0.1\n",
        "train.NOISE_CLIP = 0.2\n",
        "train.CRITIC_LR = 2e-4\n",
        "train.DELAY = 1\n",
        "\n",
        "train.TRANSITIONS = 1000000"
      ],
      "execution_count": 14,
      "outputs": []
    },
    {
      "cell_type": "code",
      "metadata": {
        "colab": {
          "base_uri": "https://localhost:8080/"
        },
        "id": "5F06d5gCE0Gq",
        "outputId": "fd028d8e-1237-492c-821a-fafc4dad3f66"
      },
      "source": [
        "train.main()"
      ],
      "execution_count": null,
      "outputs": [
        {
          "output_type": "stream",
          "name": "stderr",
          "text": [
            "/usr/local/lib/python3.7/dist-packages/gym/logger.py:30: UserWarning: \u001b[33mWARN: Box bound precision lowered by casting to float32\u001b[0m\n",
            "  warnings.warn(colorize('%s: %s'%('WARN', msg % args), 'yellow'))\n"
          ]
        },
        {
          "output_type": "stream",
          "name": "stdout",
          "text": [
            "Step: 10000, Reward mean: 481.22809388734333, Reward std: 28.433808214623582\n",
            "Step: 20000, Reward mean: 802.7390170251383, Reward std: 37.711843469976316\n",
            "Step: 30000, Reward mean: 665.4989202363361, Reward std: 55.27354880272593\n",
            "Step: 40000, Reward mean: 632.8229287807424, Reward std: 34.08638155322529\n",
            "Step: 50000, Reward mean: 777.7707301581859, Reward std: 66.8578921578977\n",
            "Step: 60000, Reward mean: 546.7195892065906, Reward std: 135.47821255108835\n",
            "Step: 70000, Reward mean: 735.2784077249898, Reward std: 29.432894847618538\n",
            "Step: 80000, Reward mean: 667.9997654176741, Reward std: 59.80621528475064\n",
            "Step: 90000, Reward mean: 456.1174987666692, Reward std: 172.80061637194427\n",
            "Step: 100000, Reward mean: 669.9516777393263, Reward std: 132.32796984720042\n",
            "Step: 110000, Reward mean: 796.3260078856813, Reward std: 84.14501354119948\n",
            "Step: 120000, Reward mean: 697.9230172209917, Reward std: 118.24339308099475\n",
            "Step: 130000, Reward mean: 662.8168036281776, Reward std: 58.93466958028295\n",
            "Step: 140000, Reward mean: 703.8296521097279, Reward std: 44.73271622594157\n",
            "Step: 150000, Reward mean: 727.5903448726084, Reward std: 97.54023002239549\n",
            "Step: 160000, Reward mean: 752.4599657287044, Reward std: 76.4170708159952\n",
            "Step: 170000, Reward mean: 804.9348930775432, Reward std: 68.76471273023566\n",
            "Step: 180000, Reward mean: 805.7796757059108, Reward std: 58.298054376385515\n",
            "Step: 190000, Reward mean: 788.3071194645802, Reward std: 119.35324752535956\n",
            "Step: 200000, Reward mean: 732.8810311556415, Reward std: 138.4221936648454\n",
            "Step: 210000, Reward mean: 811.7037133550276, Reward std: 46.09009688104961\n",
            "Step: 220000, Reward mean: 760.7481739950774, Reward std: 54.50143090720508\n",
            "Step: 230000, Reward mean: 828.4398721513501, Reward std: 86.33501788150112\n",
            "Step: 240000, Reward mean: 845.1639427847947, Reward std: 53.16758857278089\n",
            "Step: 250000, Reward mean: 816.3107357945338, Reward std: 56.17814515821435\n",
            "Step: 260000, Reward mean: 855.1166804546499, Reward std: 118.0779552795218\n",
            "Step: 270000, Reward mean: 902.1558904057523, Reward std: 133.91306135601963\n",
            "Step: 280000, Reward mean: 910.7823311315757, Reward std: 110.65614912404293\n",
            "Step: 290000, Reward mean: 843.5235958141695, Reward std: 206.2576970919943\n",
            "Step: 300000, Reward mean: 652.6613064795092, Reward std: 175.21436867729747\n",
            "Step: 310000, Reward mean: 868.320312380755, Reward std: 173.9803553665787\n",
            "Step: 320000, Reward mean: 1052.875267350955, Reward std: 341.1345994492791\n",
            "Step: 330000, Reward mean: 1223.5529765669608, Reward std: 280.6035512165241\n",
            "Step: 340000, Reward mean: 1199.3512406713564, Reward std: 285.8286183340521\n",
            "Step: 350000, Reward mean: 1053.924013155244, Reward std: 396.2013984558476\n",
            "Step: 360000, Reward mean: 952.7316798754979, Reward std: 353.71803428458753\n",
            "Step: 370000, Reward mean: 1080.967638216557, Reward std: 311.48260574524954\n",
            "Step: 380000, Reward mean: 1394.0427408633648, Reward std: 296.70471445659354\n",
            "Step: 390000, Reward mean: 1217.687512052083, Reward std: 324.7477325007163\n",
            "Step: 400000, Reward mean: 1593.7290128392247, Reward std: 133.24567585897475\n",
            "Step: 410000, Reward mean: 1493.2370276172655, Reward std: 206.33323936100342\n",
            "Step: 420000, Reward mean: 1371.9685946211043, Reward std: 258.99887408098124\n",
            "Step: 430000, Reward mean: 1452.5572796338838, Reward std: 86.58881760401258\n",
            "Step: 440000, Reward mean: 1409.3547021001923, Reward std: 292.1783760037264\n",
            "Step: 450000, Reward mean: 1774.3413086711487, Reward std: 42.89937585681535\n",
            "Step: 460000, Reward mean: 1649.9922594715622, Reward std: 45.12078045698051\n",
            "Step: 470000, Reward mean: 1720.0914568215612, Reward std: 62.406214583835876\n",
            "Step: 480000, Reward mean: 1752.9720432238664, Reward std: 36.36712002099199\n",
            "Step: 490000, Reward mean: 1662.2274323372906, Reward std: 56.14075743221241\n",
            "Step: 500000, Reward mean: 702.653062933758, Reward std: 512.4111835735171\n",
            "Step: 510000, Reward mean: 1711.5961966810705, Reward std: 74.43853838546742\n",
            "Step: 520000, Reward mean: 1552.1265315443004, Reward std: 277.60377936378853\n",
            "Step: 530000, Reward mean: 1379.0292302799583, Reward std: 476.8069918868903\n",
            "Step: 540000, Reward mean: 1967.8033194292316, Reward std: 31.308679255930784\n",
            "Step: 550000, Reward mean: 1948.3200475531473, Reward std: 34.15177196445286\n",
            "Step: 560000, Reward mean: 1663.7208301033595, Reward std: 562.3012944521371\n",
            "Step: 570000, Reward mean: 1616.6964099845388, Reward std: 459.8459062776555\n",
            "Step: 580000, Reward mean: 1940.0876395679782, Reward std: 87.78247865775027\n",
            "Step: 590000, Reward mean: 1445.1762970351604, Reward std: 391.38289040537114\n",
            "Step: 600000, Reward mean: 2089.2963834248235, Reward std: 38.260478829292765\n",
            "Step: 610000, Reward mean: 1707.7255432865913, Reward std: 299.08808984105985\n",
            "Step: 620000, Reward mean: 1991.6538500578906, Reward std: 45.45905266260757\n",
            "Step: 630000, Reward mean: 1997.882233495461, Reward std: 114.79503093819562\n",
            "Step: 640000, Reward mean: 2083.8212767700834, Reward std: 69.99839492640551\n",
            "Step: 650000, Reward mean: 2004.8812230534284, Reward std: 85.04294032270928\n",
            "Step: 660000, Reward mean: 1783.3288372437291, Reward std: 659.8793294097684\n",
            "Step: 670000, Reward mean: 1353.6118948757278, Reward std: 669.7739088628978\n",
            "Step: 680000, Reward mean: 1882.309171774823, Reward std: 630.6680664374798\n",
            "Step: 690000, Reward mean: 2169.487929676438, Reward std: 63.69437406641823\n",
            "Step: 700000, Reward mean: 2223.066092652646, Reward std: 42.45335623260587\n",
            "Step: 710000, Reward mean: 2299.109589292526, Reward std: 39.167740358269654\n",
            "Step: 720000, Reward mean: 2193.0838919011026, Reward std: 13.367468427278261\n",
            "Step: 730000, Reward mean: 2210.8165291284918, Reward std: 35.28851853895511\n",
            "Step: 740000, Reward mean: 2030.335981216495, Reward std: 186.4487336326977\n",
            "Step: 750000, Reward mean: 2103.9545824783695, Reward std: 52.38305701006271\n",
            "Step: 760000, Reward mean: 2203.744321741063, Reward std: 61.45500303557234\n",
            "Step: 770000, Reward mean: 2126.9679660546767, Reward std: 58.963675549622856\n",
            "Step: 780000, Reward mean: 2097.105496974555, Reward std: 44.81746215367247\n"
          ]
        }
      ]
    },
    {
      "cell_type": "code",
      "metadata": {
        "colab": {
          "base_uri": "https://localhost:8080/"
        },
        "id": "P23kE92zE0dD",
        "outputId": "eaa73633-3dc2-41a6-d2e7-ff6baf525f29"
      },
      "source": [
        "!zip task3_answer_3.zip train.py agent.py agent.pt"
      ],
      "execution_count": 13,
      "outputs": [
        {
          "output_type": "stream",
          "name": "stdout",
          "text": [
            "  adding: train.py (deflated 72%)\n",
            "  adding: agent.py (deflated 64%)\n",
            "  adding: agent.pt (deflated 7%)\n"
          ]
        }
      ]
    },
    {
      "cell_type": "code",
      "metadata": {
        "id": "bRDNTi55FPT2"
      },
      "source": [
        "!cp task3_answer_3.zip /content/drive/MyDrive"
      ],
      "execution_count": 14,
      "outputs": []
    },
    {
      "cell_type": "code",
      "metadata": {
        "colab": {
          "base_uri": "https://localhost:8080/"
        },
        "id": "aK2GBZ9CFPI8",
        "outputId": "acfb1127-fe94-4999-9381-6332c156a029"
      },
      "source": [
        "%mv best_agent.pt agent.pt"
      ],
      "execution_count": 15,
      "outputs": [
        {
          "output_type": "stream",
          "name": "stdout",
          "text": [
            "mv: cannot stat 'best_agent.pt': No such file or directory\n"
          ]
        }
      ]
    },
    {
      "cell_type": "code",
      "metadata": {
        "colab": {
          "base_uri": "https://localhost:8080/"
        },
        "id": "R2ehCHMMFO5r",
        "outputId": "c16ef56c-6455-4d72-e837-898ef077d669"
      },
      "source": [
        "!zip task3_answer_2.zip train.py agent.py agent.pt"
      ],
      "execution_count": 16,
      "outputs": [
        {
          "output_type": "stream",
          "name": "stdout",
          "text": [
            "  adding: train.py (deflated 72%)\n",
            "  adding: agent.py (deflated 64%)\n",
            "  adding: agent.pt (deflated 7%)\n"
          ]
        }
      ]
    },
    {
      "cell_type": "code",
      "metadata": {
        "id": "pgB1SRytFdqq"
      },
      "source": [
        "!cp task3_answer_2.zip /content/drive/MyDrive"
      ],
      "execution_count": 17,
      "outputs": []
    },
    {
      "cell_type": "code",
      "metadata": {
        "id": "jdMqI8BkFdhy"
      },
      "source": [
        ""
      ],
      "execution_count": null,
      "outputs": []
    },
    {
      "cell_type": "code",
      "metadata": {
        "id": "rIsjX5vYFdUy"
      },
      "source": [
        ""
      ],
      "execution_count": null,
      "outputs": []
    },
    {
      "cell_type": "code",
      "metadata": {
        "id": "bQupvS6wFO2s"
      },
      "source": [
        ""
      ],
      "execution_count": null,
      "outputs": []
    }
  ]
}